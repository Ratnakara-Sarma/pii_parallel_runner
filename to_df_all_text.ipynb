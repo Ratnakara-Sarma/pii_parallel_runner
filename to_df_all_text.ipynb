{
 "metadata": {
  "language_info": {
   "codemirror_mode": {
    "name": "ipython",
    "version": 3
   },
   "file_extension": ".py",
   "mimetype": "text/x-python",
   "name": "python",
   "nbconvert_exporter": "python",
   "pygments_lexer": "ipython3",
   "version": "3.6.9-final"
  },
  "orig_nbformat": 2,
  "kernelspec": {
   "name": "python3",
   "display_name": "Python 3",
   "language": "python"
  }
 },
 "nbformat": 4,
 "nbformat_minor": 2,
 "cells": [
  {
   "cell_type": "code",
   "execution_count": 1,
   "metadata": {},
   "outputs": [
    {
     "output_type": "stream",
     "name": "stdout",
     "text": [
      "/home/quadrantrpabot/Downloads/aclImdb/all\n"
     ]
    }
   ],
   "source": [
    "!pwd"
   ]
  },
  {
   "cell_type": "code",
   "execution_count": 2,
   "metadata": {},
   "outputs": [],
   "source": [
    "import pandas as pd"
   ]
  },
  {
   "cell_type": "code",
   "execution_count": 69,
   "metadata": {},
   "outputs": [],
   "source": [
    "DF = pd.DataFrame(columns=[\"fileName\", \"text\"])"
   ]
  },
  {
   "cell_type": "code",
   "execution_count": 70,
   "metadata": {},
   "outputs": [
    {
     "output_type": "execute_result",
     "data": {
      "text/plain": [
       "Empty DataFrame\n",
       "Columns: [fileName, text]\n",
       "Index: []"
      ],
      "text/html": "<div>\n<style scoped>\n    .dataframe tbody tr th:only-of-type {\n        vertical-align: middle;\n    }\n\n    .dataframe tbody tr th {\n        vertical-align: top;\n    }\n\n    .dataframe thead th {\n        text-align: right;\n    }\n</style>\n<table border=\"1\" class=\"dataframe\">\n  <thead>\n    <tr style=\"text-align: right;\">\n      <th></th>\n      <th>fileName</th>\n      <th>text</th>\n    </tr>\n  </thead>\n  <tbody>\n  </tbody>\n</table>\n</div>"
     },
     "metadata": {},
     "execution_count": 70
    }
   ],
   "source": [
    "DF"
   ]
  },
  {
   "cell_type": "code",
   "execution_count": 67,
   "metadata": {},
   "outputs": [],
   "source": [
    "import glob\n",
    "\n",
    "paths = glob.glob(r\"/home/quadrantrpabot/Downloads/aclImdb/all/**/*.txt\",recursive=True)"
   ]
  },
  {
   "cell_type": "code",
   "execution_count": 71,
   "metadata": {},
   "outputs": [],
   "source": [
    "DF[\"fileName\"] = paths"
   ]
  },
  {
   "cell_type": "code",
   "execution_count": 72,
   "metadata": {},
   "outputs": [
    {
     "output_type": "execute_result",
     "data": {
      "text/plain": [
       "                                                fileName text\n",
       "0      /home/quadrantrpabot/Downloads/aclImdb/all/tes...  NaN\n",
       "1      /home/quadrantrpabot/Downloads/aclImdb/all/tes...  NaN\n",
       "2      /home/quadrantrpabot/Downloads/aclImdb/all/tes...  NaN\n",
       "3      /home/quadrantrpabot/Downloads/aclImdb/all/tes...  NaN\n",
       "4      /home/quadrantrpabot/Downloads/aclImdb/all/tes...  NaN\n",
       "...                                                  ...  ...\n",
       "49995  /home/quadrantrpabot/Downloads/aclImdb/all/tra...  NaN\n",
       "49996  /home/quadrantrpabot/Downloads/aclImdb/all/tra...  NaN\n",
       "49997  /home/quadrantrpabot/Downloads/aclImdb/all/tra...  NaN\n",
       "49998  /home/quadrantrpabot/Downloads/aclImdb/all/tra...  NaN\n",
       "49999  /home/quadrantrpabot/Downloads/aclImdb/all/tra...  NaN\n",
       "\n",
       "[50000 rows x 2 columns]"
      ],
      "text/html": "<div>\n<style scoped>\n    .dataframe tbody tr th:only-of-type {\n        vertical-align: middle;\n    }\n\n    .dataframe tbody tr th {\n        vertical-align: top;\n    }\n\n    .dataframe thead th {\n        text-align: right;\n    }\n</style>\n<table border=\"1\" class=\"dataframe\">\n  <thead>\n    <tr style=\"text-align: right;\">\n      <th></th>\n      <th>fileName</th>\n      <th>text</th>\n    </tr>\n  </thead>\n  <tbody>\n    <tr>\n      <th>0</th>\n      <td>/home/quadrantrpabot/Downloads/aclImdb/all/tes...</td>\n      <td>NaN</td>\n    </tr>\n    <tr>\n      <th>1</th>\n      <td>/home/quadrantrpabot/Downloads/aclImdb/all/tes...</td>\n      <td>NaN</td>\n    </tr>\n    <tr>\n      <th>2</th>\n      <td>/home/quadrantrpabot/Downloads/aclImdb/all/tes...</td>\n      <td>NaN</td>\n    </tr>\n    <tr>\n      <th>3</th>\n      <td>/home/quadrantrpabot/Downloads/aclImdb/all/tes...</td>\n      <td>NaN</td>\n    </tr>\n    <tr>\n      <th>4</th>\n      <td>/home/quadrantrpabot/Downloads/aclImdb/all/tes...</td>\n      <td>NaN</td>\n    </tr>\n    <tr>\n      <th>...</th>\n      <td>...</td>\n      <td>...</td>\n    </tr>\n    <tr>\n      <th>49995</th>\n      <td>/home/quadrantrpabot/Downloads/aclImdb/all/tra...</td>\n      <td>NaN</td>\n    </tr>\n    <tr>\n      <th>49996</th>\n      <td>/home/quadrantrpabot/Downloads/aclImdb/all/tra...</td>\n      <td>NaN</td>\n    </tr>\n    <tr>\n      <th>49997</th>\n      <td>/home/quadrantrpabot/Downloads/aclImdb/all/tra...</td>\n      <td>NaN</td>\n    </tr>\n    <tr>\n      <th>49998</th>\n      <td>/home/quadrantrpabot/Downloads/aclImdb/all/tra...</td>\n      <td>NaN</td>\n    </tr>\n    <tr>\n      <th>49999</th>\n      <td>/home/quadrantrpabot/Downloads/aclImdb/all/tra...</td>\n      <td>NaN</td>\n    </tr>\n  </tbody>\n</table>\n<p>50000 rows × 2 columns</p>\n</div>"
     },
     "metadata": {},
     "execution_count": 72
    }
   ],
   "source": [
    "DF"
   ]
  },
  {
   "cell_type": "code",
   "execution_count": 73,
   "metadata": {},
   "outputs": [
    {
     "output_type": "execute_result",
     "data": {
      "text/plain": [
       "50000"
      ]
     },
     "metadata": {},
     "execution_count": 73
    }
   ],
   "source": [
    "len(paths)"
   ]
  },
  {
   "cell_type": "code",
   "execution_count": 75,
   "metadata": {},
   "outputs": [],
   "source": [
    "texts = []\n",
    "for file in paths:\n",
    "    with open(file,\"r\") as text:\n",
    "        texts.append(text.readlines())"
   ]
  },
  {
   "cell_type": "code",
   "execution_count": 84,
   "metadata": {
    "tags": []
   },
   "outputs": [],
   "source": [
    "actual_texts = []\n",
    "for i in texts:\n",
    "    actual_texts.append(i[0])\n",
    "    # try:\n",
    "    #     print(i[1])\n",
    "    # except:\n",
    "    #     print(\"list index out of range\")"
   ]
  },
  {
   "cell_type": "code",
   "execution_count": 89,
   "metadata": {},
   "outputs": [],
   "source": [
    "DF[\"text\"] = actual_texts"
   ]
  },
  {
   "cell_type": "code",
   "execution_count": 94,
   "metadata": {},
   "outputs": [],
   "source": [
    "import pickle as pkl"
   ]
  },
  {
   "cell_type": "code",
   "execution_count": 96,
   "metadata": {},
   "outputs": [],
   "source": [
    "outfile = open(\"imdb\",\"wb+\")\n",
    "pkl.dump(DF,outfile)\n",
    "outfile.close()"
   ]
  },
  {
   "cell_type": "code",
   "execution_count": 97,
   "metadata": {},
   "outputs": [
    {
     "output_type": "stream",
     "name": "stdout",
     "text": [
      "/home/quadrantrpabot\n"
     ]
    }
   ],
   "source": [
    "!pwd"
   ]
  },
  {
   "cell_type": "code",
   "execution_count": 2,
   "metadata": {},
   "outputs": [],
   "source": [
    "import pickle as pkl"
   ]
  },
  {
   "cell_type": "code",
   "execution_count": 3,
   "metadata": {},
   "outputs": [],
   "source": [
    "infile = open(\"/home/quadrantrpabot/Downloads/imdb\",\"rb\")\n",
    "DF = pkl.load(infile)\n",
    "infile.close()\n"
   ]
  },
  {
   "cell_type": "code",
   "execution_count": 4,
   "metadata": {},
   "outputs": [
    {
     "output_type": "execute_result",
     "data": {
      "text/plain": [
       "                                                fileName  \\\n",
       "0      /home/quadrantrpabot/Downloads/aclImdb/all/tes...   \n",
       "1      /home/quadrantrpabot/Downloads/aclImdb/all/tes...   \n",
       "2      /home/quadrantrpabot/Downloads/aclImdb/all/tes...   \n",
       "3      /home/quadrantrpabot/Downloads/aclImdb/all/tes...   \n",
       "4      /home/quadrantrpabot/Downloads/aclImdb/all/tes...   \n",
       "...                                                  ...   \n",
       "49995  /home/quadrantrpabot/Downloads/aclImdb/all/tra...   \n",
       "49996  /home/quadrantrpabot/Downloads/aclImdb/all/tra...   \n",
       "49997  /home/quadrantrpabot/Downloads/aclImdb/all/tra...   \n",
       "49998  /home/quadrantrpabot/Downloads/aclImdb/all/tra...   \n",
       "49999  /home/quadrantrpabot/Downloads/aclImdb/all/tra...   \n",
       "\n",
       "                                                    text  \n",
       "0      This early film from future goremeister Lucio ...  \n",
       "1      William Shakespeare probably didn't envision S...  \n",
       "2      Bears about as much resemblance to Dean Koontz...  \n",
       "3      Ich will danke Herr Hacke für den Filme. Mein ...  \n",
       "4      Shame on you if you give this film a low ratin...  \n",
       "...                                                  ...  \n",
       "49995  Being that I loved the original \"Caligula\" eve...  \n",
       "49996  It is nice to see the likes of Oliver Stone, B...  \n",
       "49997  666: The Child starts as a plane crashes, the ...  \n",
       "49998  Don't even ask me why I watched this! The only...  \n",
       "49999  Another trashy Grade Z quickie from the prolif...  \n",
       "\n",
       "[50000 rows x 2 columns]"
      ],
      "text/html": "<div>\n<style scoped>\n    .dataframe tbody tr th:only-of-type {\n        vertical-align: middle;\n    }\n\n    .dataframe tbody tr th {\n        vertical-align: top;\n    }\n\n    .dataframe thead th {\n        text-align: right;\n    }\n</style>\n<table border=\"1\" class=\"dataframe\">\n  <thead>\n    <tr style=\"text-align: right;\">\n      <th></th>\n      <th>fileName</th>\n      <th>text</th>\n    </tr>\n  </thead>\n  <tbody>\n    <tr>\n      <th>0</th>\n      <td>/home/quadrantrpabot/Downloads/aclImdb/all/tes...</td>\n      <td>This early film from future goremeister Lucio ...</td>\n    </tr>\n    <tr>\n      <th>1</th>\n      <td>/home/quadrantrpabot/Downloads/aclImdb/all/tes...</td>\n      <td>William Shakespeare probably didn't envision S...</td>\n    </tr>\n    <tr>\n      <th>2</th>\n      <td>/home/quadrantrpabot/Downloads/aclImdb/all/tes...</td>\n      <td>Bears about as much resemblance to Dean Koontz...</td>\n    </tr>\n    <tr>\n      <th>3</th>\n      <td>/home/quadrantrpabot/Downloads/aclImdb/all/tes...</td>\n      <td>Ich will danke Herr Hacke für den Filme. Mein ...</td>\n    </tr>\n    <tr>\n      <th>4</th>\n      <td>/home/quadrantrpabot/Downloads/aclImdb/all/tes...</td>\n      <td>Shame on you if you give this film a low ratin...</td>\n    </tr>\n    <tr>\n      <th>...</th>\n      <td>...</td>\n      <td>...</td>\n    </tr>\n    <tr>\n      <th>49995</th>\n      <td>/home/quadrantrpabot/Downloads/aclImdb/all/tra...</td>\n      <td>Being that I loved the original \"Caligula\" eve...</td>\n    </tr>\n    <tr>\n      <th>49996</th>\n      <td>/home/quadrantrpabot/Downloads/aclImdb/all/tra...</td>\n      <td>It is nice to see the likes of Oliver Stone, B...</td>\n    </tr>\n    <tr>\n      <th>49997</th>\n      <td>/home/quadrantrpabot/Downloads/aclImdb/all/tra...</td>\n      <td>666: The Child starts as a plane crashes, the ...</td>\n    </tr>\n    <tr>\n      <th>49998</th>\n      <td>/home/quadrantrpabot/Downloads/aclImdb/all/tra...</td>\n      <td>Don't even ask me why I watched this! The only...</td>\n    </tr>\n    <tr>\n      <th>49999</th>\n      <td>/home/quadrantrpabot/Downloads/aclImdb/all/tra...</td>\n      <td>Another trashy Grade Z quickie from the prolif...</td>\n    </tr>\n  </tbody>\n</table>\n<p>50000 rows × 2 columns</p>\n</div>"
     },
     "metadata": {},
     "execution_count": 4
    }
   ],
   "source": [
    "DF"
   ]
  },
  {
   "cell_type": "code",
   "execution_count": null,
   "metadata": {},
   "outputs": [],
   "source": []
  }
 ]
}